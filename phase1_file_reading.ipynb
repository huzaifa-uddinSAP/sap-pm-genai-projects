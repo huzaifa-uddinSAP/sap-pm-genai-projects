{
  "nbformat": 4,
  "nbformat_minor": 0,
  "metadata": {
    "colab": {
      "provenance": [],
      "authorship_tag": "ABX9TyM7vh4peQzLmmBlcjqTt2ri",
      "include_colab_link": true
    },
    "kernelspec": {
      "name": "python3",
      "display_name": "Python 3"
    },
    "language_info": {
      "name": "python"
    }
  },
  "cells": [
    {
      "cell_type": "markdown",
      "metadata": {
        "id": "view-in-github",
        "colab_type": "text"
      },
      "source": [
        "<a href=\"https://colab.research.google.com/github/huzaifa-uddinSAP/sap-pm-genai-projects/blob/main/phase1_file_reading.ipynb\" target=\"_parent\"><img src=\"https://colab.research.google.com/assets/colab-badge.svg\" alt=\"Open In Colab\"/></a>"
      ]
    },
    {
      "cell_type": "code",
      "execution_count": 1,
      "metadata": {
        "colab": {
          "base_uri": "https://localhost:8080/"
        },
        "id": "RSena0m0UFa5",
        "outputId": "60469b7c-629e-4640-d6c3-ca01173e025e"
      },
      "outputs": [
        {
          "output_type": "stream",
          "name": "stdout",
          "text": [
            "Hello, SAP PM + GenAI World!\n"
          ]
        }
      ],
      "source": [
        "print(\"Hello, SAP PM + GenAI World!\")\n"
      ]
    },
    {
      "cell_type": "code",
      "source": [
        "with open('sample.txt', 'r') as file:\n",
        "    content = file.read()\n",
        "    print(\"File Content:\\n\", content)\n"
      ],
      "metadata": {
        "colab": {
          "base_uri": "https://localhost:8080/"
        },
        "id": "YFE4_5XFVL3l",
        "outputId": "ded22721-8e2b-4e8f-ed11-589590136df7"
      },
      "execution_count": 3,
      "outputs": [
        {
          "output_type": "stream",
          "name": "stdout",
          "text": [
            "File Content:\n",
            " This is my first SAP PM document.\n",
            "I will use AI to analyze this in future projects.\n",
            "\n"
          ]
        }
      ]
    },
    {
      "cell_type": "code",
      "source": [],
      "metadata": {
        "id": "88BpV1yRV_ZW"
      },
      "execution_count": null,
      "outputs": []
    }
  ]
}